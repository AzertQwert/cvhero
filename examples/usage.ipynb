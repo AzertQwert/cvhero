{
 "cells": [
  {
   "cell_type": "code",
   "execution_count": 1,
   "id": "1865dccc",
   "metadata": {},
   "outputs": [],
   "source": [
    "import sys\n",
    "sys.path.append(\"../\") \n",
    "import cvhero as cv"
   ]
  },
  {
   "cell_type": "markdown",
   "id": "9b1e89e3",
   "metadata": {},
   "source": [
    "## This is another demonstration"
   ]
  },
  {
   "cell_type": "code",
   "execution_count": 3,
   "id": "447d76bc",
   "metadata": {},
   "outputs": [],
   "source": [
    "import pandas as pd"
   ]
  },
  {
   "cell_type": "markdown",
   "id": "2ee81b92",
   "metadata": {},
   "source": [
    "# This is a major header"
   ]
  },
  {
   "cell_type": "code",
   "execution_count": 4,
   "id": "6b35bd10",
   "metadata": {},
   "outputs": [],
   "source": [
    "series = pd.Series([1, \"two\", 3.0])"
   ]
  },
  {
   "cell_type": "code",
   "execution_count": 5,
   "id": "43a00443",
   "metadata": {},
   "outputs": [
    {
     "data": {
      "text/plain": [
       "0      1\n",
       "1    two\n",
       "2    3.0\n",
       "dtype: object"
      ]
     },
     "execution_count": 5,
     "metadata": {},
     "output_type": "execute_result"
    }
   ],
   "source": [
    "series"
   ]
  },
  {
   "cell_type": "markdown",
   "id": "b842ab7f",
   "metadata": {},
   "source": [
    "#### This is a minor header\n",
    "\n",
    "    with:\n",
    "       * not one\n",
    "       * but three\n",
    "       * bulletpoints\n",
    "        "
   ]
  },
  {
   "cell_type": "code",
   "execution_count": 7,
   "id": "ca0639a9",
   "metadata": {},
   "outputs": [
    {
     "data": {
      "text/html": [
       "<div>\n",
       "<style scoped>\n",
       "    .dataframe tbody tr th:only-of-type {\n",
       "        vertical-align: middle;\n",
       "    }\n",
       "\n",
       "    .dataframe tbody tr th {\n",
       "        vertical-align: top;\n",
       "    }\n",
       "\n",
       "    .dataframe thead th {\n",
       "        text-align: right;\n",
       "    }\n",
       "</style>\n",
       "<table border=\"1\" class=\"dataframe\">\n",
       "  <thead>\n",
       "    <tr style=\"text-align: right;\">\n",
       "      <th></th>\n",
       "      <th>0</th>\n",
       "      <th>1</th>\n",
       "    </tr>\n",
       "  </thead>\n",
       "  <tbody>\n",
       "    <tr>\n",
       "      <th>0</th>\n",
       "      <td>1</td>\n",
       "      <td>1</td>\n",
       "    </tr>\n",
       "    <tr>\n",
       "      <th>1</th>\n",
       "      <td>two</td>\n",
       "      <td>two</td>\n",
       "    </tr>\n",
       "    <tr>\n",
       "      <th>2</th>\n",
       "      <td>3.0</td>\n",
       "      <td>3.0</td>\n",
       "    </tr>\n",
       "  </tbody>\n",
       "</table>\n",
       "</div>"
      ],
      "text/plain": [
       "     0    1\n",
       "0    1    1\n",
       "1  two  two\n",
       "2  3.0  3.0"
      ]
     },
     "execution_count": 7,
     "metadata": {},
     "output_type": "execute_result"
    }
   ],
   "source": [
    "pd.concat([series, series], axis= 1)"
   ]
  },
  {
   "cell_type": "markdown",
   "id": "713a3357",
   "metadata": {},
   "source": [
    "Thanks for watching"
   ]
  },
  {
   "cell_type": "code",
   "execution_count": null,
   "id": "b32c2133",
   "metadata": {},
   "outputs": [],
   "source": []
  },
  {
   "cell_type": "code",
   "execution_count": null,
   "id": "57f5a79e",
   "metadata": {},
   "outputs": [],
   "source": []
  }
 ],
 "metadata": {
  "kernelspec": {
   "display_name": "cvhero_env",
   "language": "python",
   "name": "cvhero_env"
  },
  "language_info": {
   "codemirror_mode": {
    "name": "ipython",
    "version": 3
   },
   "file_extension": ".py",
   "mimetype": "text/x-python",
   "name": "python",
   "nbconvert_exporter": "python",
   "pygments_lexer": "ipython3",
   "version": "3.10.5"
  }
 },
 "nbformat": 4,
 "nbformat_minor": 5
}
